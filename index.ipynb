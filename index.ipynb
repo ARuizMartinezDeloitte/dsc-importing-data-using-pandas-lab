{
 "cells": [
  {
   "cell_type": "markdown",
   "metadata": {},
   "source": [
    "# Importing Data Using Pandas - Lab\n",
    "\n",
    "## Introduction\n",
    "\n",
    "In this lab, you'll get some practice with loading files with summary or metadata, and if you find that easy, the optional \"level up\" content covers loading data from a corrupted csv file!\n",
    "\n",
    "## Objectives\n",
    "You will be able to:\n",
    "\n",
    "- Use pandas to import data from a CSV and and an Excel spreadsheet  \n",
    "\n",
    "##  Loading Files with Summary or Meta Data\n",
    "\n",
    "Load either of the files `'Zipcode_Demos.csv'` or `'Zipcode_Demos.xlsx'`. What's going on with this dataset? Clean it up into a useable format and describe the nuances of how the data is currently formatted.\n",
    "\n",
    "All data files are stored in a folder titled `'Data'`."
   ]
  },
  {
   "cell_type": "code",
   "execution_count": 18,
   "metadata": {},
   "outputs": [],
   "source": [
    "# Import pandas using the standard alias\n",
    "import pandas as pd"
   ]
  },
  {
   "cell_type": "code",
   "execution_count": 19,
   "metadata": {},
   "outputs": [],
   "source": [
    "# Import the file and print the first 5 rows\n",
    "df = pd.read_csv(\"Data/Zipcode_Demos.csv\")\n"
   ]
  },
  {
   "cell_type": "code",
   "execution_count": 20,
   "metadata": {},
   "outputs": [
    {
     "name": "stdout",
     "output_type": "stream",
     "text": [
      "     0 Average Statistics Unnamed: 2 Unnamed: 3 Unnamed: 4 Unnamed: 5  \\\n",
      "52  53              10006          6          2       0.33          4   \n",
      "53  54              10007          1          0          0          1   \n",
      "54  55              10009          2          0          0          2   \n",
      "55  56              10010          0          0          0          0   \n",
      "56  57              10011          3          2       0.67          1   \n",
      "\n",
      "   Unnamed: 6 Unnamed: 7 Unnamed: 8 Unnamed: 9  ... Unnamed: 37 Unnamed: 38  \\\n",
      "52       0.67          0          0          6  ...           6         100   \n",
      "53          1          0          0          1  ...           1         100   \n",
      "54          1          0          0          2  ...           2         100   \n",
      "55          0          0          0          0  ...           0           0   \n",
      "56       0.33          0          0          3  ...           3         100   \n",
      "\n",
      "   Unnamed: 39 Unnamed: 40 Unnamed: 41 Unnamed: 42 Unnamed: 43 Unnamed: 44  \\\n",
      "52           0           0           6           1           0           0   \n",
      "53           1           1           0           0           0           0   \n",
      "54           0           0           2           1           0           0   \n",
      "55           0           0           0           0           0           0   \n",
      "56           0           0           3           1           0           0   \n",
      "\n",
      "   Unnamed: 45 Unnamed: 46  \n",
      "52           6         100  \n",
      "53           1         100  \n",
      "54           2         100  \n",
      "55           0           0  \n",
      "56           3         100  \n",
      "\n",
      "[5 rows x 47 columns]\n"
     ]
    }
   ],
   "source": [
    "# Print the last 5 rows of df\n",
    "#print(df)\n",
    "print(df[-5:])"
   ]
  },
  {
   "cell_type": "code",
   "execution_count": 21,
   "metadata": {},
   "outputs": [
    {
     "name": "stdout",
     "output_type": "stream",
     "text": [
      "<class 'pandas.core.frame.DataFrame'>\n",
      "RangeIndex: 57 entries, 0 to 56\n",
      "Data columns (total 47 columns):\n",
      " #   Column              Non-Null Count  Dtype \n",
      "---  ------              --------------  ----- \n",
      " 0   0                   57 non-null     int64 \n",
      " 1   Average Statistics  56 non-null     object\n",
      " 2   Unnamed: 2          57 non-null     object\n",
      " 3   Unnamed: 3          11 non-null     object\n",
      " 4   Unnamed: 4          11 non-null     object\n",
      " 5   Unnamed: 5          11 non-null     object\n",
      " 6   Unnamed: 6          11 non-null     object\n",
      " 7   Unnamed: 7          11 non-null     object\n",
      " 8   Unnamed: 8          11 non-null     object\n",
      " 9   Unnamed: 9          11 non-null     object\n",
      " 10  Unnamed: 10         11 non-null     object\n",
      " 11  Unnamed: 11         11 non-null     object\n",
      " 12  Unnamed: 12         11 non-null     object\n",
      " 13  Unnamed: 13         11 non-null     object\n",
      " 14  Unnamed: 14         11 non-null     object\n",
      " 15  Unnamed: 15         11 non-null     object\n",
      " 16  Unnamed: 16         11 non-null     object\n",
      " 17  Unnamed: 17         11 non-null     object\n",
      " 18  Unnamed: 18         11 non-null     object\n",
      " 19  Unnamed: 19         11 non-null     object\n",
      " 20  Unnamed: 20         11 non-null     object\n",
      " 21  Unnamed: 21         11 non-null     object\n",
      " 22  Unnamed: 22         11 non-null     object\n",
      " 23  Unnamed: 23         11 non-null     object\n",
      " 24  Unnamed: 24         11 non-null     object\n",
      " 25  Unnamed: 25         11 non-null     object\n",
      " 26  Unnamed: 26         11 non-null     object\n",
      " 27  Unnamed: 27         11 non-null     object\n",
      " 28  Unnamed: 28         11 non-null     object\n",
      " 29  Unnamed: 29         11 non-null     object\n",
      " 30  Unnamed: 30         11 non-null     object\n",
      " 31  Unnamed: 31         11 non-null     object\n",
      " 32  Unnamed: 32         11 non-null     object\n",
      " 33  Unnamed: 33         11 non-null     object\n",
      " 34  Unnamed: 34         11 non-null     object\n",
      " 35  Unnamed: 35         11 non-null     object\n",
      " 36  Unnamed: 36         11 non-null     object\n",
      " 37  Unnamed: 37         11 non-null     object\n",
      " 38  Unnamed: 38         11 non-null     object\n",
      " 39  Unnamed: 39         11 non-null     object\n",
      " 40  Unnamed: 40         11 non-null     object\n",
      " 41  Unnamed: 41         11 non-null     object\n",
      " 42  Unnamed: 42         11 non-null     object\n",
      " 43  Unnamed: 43         11 non-null     object\n",
      " 44  Unnamed: 44         11 non-null     object\n",
      " 45  Unnamed: 45         11 non-null     object\n",
      " 46  Unnamed: 46         11 non-null     object\n",
      "dtypes: int64(1), object(46)\n",
      "memory usage: 21.1+ KB\n"
     ]
    }
   ],
   "source": [
    "# What is going on with this data set? Anything unusual?\n",
    "df.info()\n",
    "#is the only useful part the last 10 lines??\n"
   ]
  },
  {
   "cell_type": "code",
   "execution_count": 27,
   "metadata": {},
   "outputs": [
    {
     "data": {
      "text/plain": [
       "0   Average Statistics  Unnamed: 2  Unnamed: 3  Unnamed: 4  Unnamed: 5  Unnamed: 6  Unnamed: 7  Unnamed: 8  Unnamed: 9  Unnamed: 10  Unnamed: 11  Unnamed: 12  Unnamed: 13  Unnamed: 14  Unnamed: 15  Unnamed: 16  Unnamed: 17  Unnamed: 18  Unnamed: 19  Unnamed: 20  Unnamed: 21  Unnamed: 22  Unnamed: 23  Unnamed: 24  Unnamed: 25  Unnamed: 26  Unnamed: 27  Unnamed: 28  Unnamed: 29  Unnamed: 30  Unnamed: 31  Unnamed: 32  Unnamed: 33  Unnamed: 34  Unnamed: 35  Unnamed: 36  Unnamed: 37  Unnamed: 38  Unnamed: 39  Unnamed: 40  Unnamed: 41  Unnamed: 42  Unnamed: 43  Unnamed: 44  Unnamed: 45  Unnamed: 46\n",
       "56  10010               0           0           0           0           0           0           0           0           0            0            0            0            0            0            0            0            0            0            0            0            0            0            0            0            0            0            0            0            0            0            0            0            0            0            0            0            0            0            0            0            0            0            0            0            0              1\n",
       "57  10011               3           2           0.67        1           0.33        0           0           3           100          0            0            1            0.33         0            0            0            0            0            0            1            0.33         1            0.33         0            0            3            99           0            0            3            1            0            0            0            0            3            100          0            0            3            1            0            0            3            100            1\n",
       "dtype: int64"
      ]
     },
     "execution_count": 27,
     "metadata": {},
     "output_type": "execute_result"
    }
   ],
   "source": [
    "# Clean up the dataset\n",
    "df[-2:].value_counts()"
   ]
  },
  {
   "cell_type": "markdown",
   "metadata": {},
   "source": [
    "## Level Up (Optional) - Loading Corrupt CSV files\n",
    "\n",
    "Occasionally, you encounter some really ill-formatted data. One example of this can be data that has strings containing commas in a csv file. Under the standard protocol, when this occurs, one is supposed to use quotes to differentiate between the commas denoting fields and the commas within those fields themselves. For example, we could have a table like this:  \n",
    "\n",
    "`ReviewerID,Rating,N_reviews,Review,VenueID\n",
    "123456,4,137,This restaurant was pretty good, we had a great time.,98765`\n",
    "\n",
    "Which should be saved like this if it were a csv (to avoid confusion with the commas in the Review text):\n",
    "`\"ReviewerID\",\"Rating\",\"N_reviews\",\"Review\",\"VenueID\"\n",
    "\"123456\",\"4\",\"137\",\"This restaurant was pretty good, we had a great time.\",\"98765\"`\n",
    "\n",
    "Attempt to import the corrupt file, or at least a small preview of it. It is appropriately titled `'Yelp_Reviews_Corrupt.csv'`. Investigate some of the intricacies of skipping rows to then pass over this error and comment on what you think is going on."
   ]
  },
  {
   "cell_type": "code",
   "execution_count": 3,
   "metadata": {},
   "outputs": [
    {
     "name": "stdout",
     "output_type": "stream",
     "text": [
      "error\n"
     ]
    }
   ],
   "source": [
    "# Hint: Here's a useful programming pattern to use\n",
    "try:\n",
    "    df = pd.read_csv(\"Yelp_Reviews_Corrupt.csv\")\n",
    "except Exception as e:\n",
    "    print(\"error\")"
   ]
  },
  {
   "cell_type": "markdown",
   "metadata": {},
   "source": [
    "## Summary\n",
    "\n",
    "Congratulations, you now practiced your Pandas-importing skills!"
   ]
  }
 ],
 "metadata": {
  "kernelspec": {
   "display_name": "Python 3 (ipykernel)",
   "language": "python",
   "name": "python3"
  },
  "language_info": {
   "codemirror_mode": {
    "name": "ipython",
    "version": 3
   },
   "file_extension": ".py",
   "mimetype": "text/x-python",
   "name": "python",
   "nbconvert_exporter": "python",
   "pygments_lexer": "ipython3",
   "version": "3.11.3"
  }
 },
 "nbformat": 4,
 "nbformat_minor": 2
}
